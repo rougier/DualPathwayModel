{
 "cells": [
  {
   "cell_type": "markdown",
   "metadata": {},
   "source": [
    "## Mini syrinx model \n",
    "\n",
    "For the dual pathway model, we would like to test it using a syrinx-based performance contour.\n",
    "For this, we attempt to generate a performance landscape using a syrinx model used by Darshan, Amador, etc.\n",
    "https://doi.org/10.1038/nature11967\n",
    "\n",
    "Here, we provide two vectors, pressure and tension, as input.\n",
    "The model comprises two ODEs, which produces the labial position x(t) and velocity y(t).\n",
    "\n",
    "We transform this to generate song, and see the frequency distribution.\n",
    "\n",
    "From this frequency distribution, we build the performance landscape."
   ]
  },
  {
   "cell_type": "code",
   "execution_count": 1,
   "metadata": {},
   "outputs": [],
   "source": [
    "#Libraries\n",
    "\n",
    "import numpy as np\n",
    "import matplotlib.pyplot as plt\n",
    "from mpl_toolkits.axes_grid1 import make_axes_locatable\n",
    "import queue\n",
    "from scipy.integrate import solve_ivp\n",
    "from scipy.signal import spectrogram\n",
    "from tqdm import tqdm"
   ]
  },
  {
   "cell_type": "code",
   "execution_count": 2,
   "metadata": {},
   "outputs": [],
   "source": [
    "np.random.seed(100)"
   ]
  },
  {
   "cell_type": "code",
   "execution_count": 3,
   "metadata": {},
   "outputs": [],
   "source": [
    "# Parameters\n",
    "gamma = 12000 \n",
    "duration = 0.050 #s\n",
    "dt = 1/44100 #s  #* 0.1 #1.e-4\n",
    "Amp = 4\n",
    "nt = int(duration/dt)\n",
    "\n",
    "# Trachea parameters\n",
    "r=-0.9\n",
    "v=350*100\n",
    "L=1.9\n",
    "tau_0=2*L/v # Propagation time along trachea\n",
    "tau_n=int(tau_0/dt)"
   ]
  },
  {
   "cell_type": "code",
   "execution_count": 4,
   "metadata": {},
   "outputs": [],
   "source": [
    "def syrinxODE(t, y):\n",
    "    ''' ODEs used in Amador paper'''\n",
    "    \n",
    "    global P_alpha, T_beta\n",
    "    \n",
    "    y0, y1 = y\n",
    "    dydt = [y1,\n",
    "         -Pressure(t, P_alpha)*(gamma**2) - Tension(t, T_beta)*(gamma**2)*y0 - (gamma**2)*(y0**3) - gamma*(y0**2)*y1 + (gamma**2)*(y0**2) - gamma*y0*y1\n",
    "           ]\n",
    "\n",
    "    return dydt"
   ]
  },
  {
   "cell_type": "code",
   "execution_count": 5,
   "metadata": {},
   "outputs": [],
   "source": [
    "def Syrinx(P_alpha, T_beta):\n",
    "    ''' Simulating a syrinx using pressure and tension inputs. '''\n",
    "    solution = solve_ivp(syrinxODE, [0, duration], [1, 1], method = \"RK45\", t_eval = np.linspace(0,duration,nt), rtol = 1e-8, atol = 1e-8)\n",
    "    \n",
    "    # Extract labial position (X) and velocity (Y)\n",
    "    X = solution['y'][0]\n",
    "    Y = solution['y'][1]\n",
    "    \n",
    "    time_x = np.linspace(0, duration, nt)\n",
    "    song = Amp * Pressure(time_x, P_alpha) * Y\n",
    "    \n",
    "    return song"
   ]
  },
  {
   "cell_type": "code",
   "execution_count": 6,
   "metadata": {},
   "outputs": [],
   "source": [
    "def Trachea(song):\n",
    "    \"\"\" Simulating the progression of pressure through a trachea. \"\"\"\n",
    "    \n",
    "    y0 = song.T\n",
    "\n",
    "    # To generate pressure output from trachea\n",
    "    P_i=np.zeros((len(y0)))\n",
    "\n",
    "    # See Fig 1 in Amador paper. Round-about way to implement that.\n",
    "    Buffer = queue.Queue()\n",
    "    for i in np.arange(tau_n):\n",
    "        Buffer.put(np.random.random())\n",
    "\n",
    "    for i in np.arange(len(y0)):\n",
    "        P_i[i] = y0[i] - r*Buffer.get();      \n",
    "        # update_buffer\n",
    "        Buffer.put(P_i[i])\n",
    "\n",
    "    # P_tr from P_in (ref Amador paper)\n",
    "    BufferB=np.zeros((tau_n))\n",
    "    P_tmp= np.concatenate((BufferB, P_i))\n",
    "    P_t=(1-r)*P_tmp[:-tau_n]\n",
    "    return P_t\n"
   ]
  },
  {
   "cell_type": "code",
   "execution_count": 7,
   "metadata": {},
   "outputs": [],
   "source": [
    "#RC 4\n",
    "def Tension(t, T_beta):\n",
    "    \"\"\" Generalised exponential waveform \"\"\"\n",
    "    return   -.2*np.exp(-200*t) -.00001 * np.exp(200*t)  + T_beta\n",
    "\n",
    "    \n",
    "def Pressure(t, P_alpha):\n",
    "    \"\"\" Constant \"\"\"\n",
    "    return 0.04*np.sin((duration/2 + t)*np.pi*10) + P_alpha"
   ]
  },
  {
   "cell_type": "code",
   "execution_count": 8,
   "metadata": {},
   "outputs": [],
   "source": [
    "def plot_gradient(ax, Z, figure):\n",
    "    \"\"\" Plots reward contour. \"\"\"\n",
    "\n",
    "    contour = ax.contourf(Z, 25, extent=[0.0, 1.0, 0.0, 0.2], cmap=\"gray_r\", alpha=.25)\n",
    "#     cbar = figure.colorbar(contour)\n",
    "    \n",
    "    divider = make_axes_locatable(ax)\n",
    "    cax = divider.append_axes('right', size='5%', pad=0.5)\n",
    "    cbar = figure.colorbar(contour, cax=cax)\n",
    "    cbar.set_label('Performance metric (R)', rotation=270, fontsize=20, labelpad=25)"
   ]
  },
  {
   "cell_type": "code",
   "execution_count": null,
   "metadata": {},
   "outputs": [],
   "source": [
    "def create_template(P_alpha=0.02, T_beta=0.6):\n",
    "    \"\"\" Creates spectrogram template from target song. \"\"\"\n",
    "\n",
    "    song = Syrinx(P_alpha, T_beta)\n",
    "    P_tr = Trachea(song)\n",
    "    (freqs, t, spectrum) = spectrogram(P_tr, fs=1/dt)\n",
    "    target_spectrum = spectrum\n",
    "\n",
    "    templateSpec = target_spectrum\n",
    "    mts = np.mean(templateSpec)\n",
    "    templateSpec = templateSpec - mts\n",
    "    templateLen = np.sqrt(np.sum(templateSpec ** 2))\n",
    "    templateSpec = templateSpec / templateLen\n",
    "    \n",
    "    return templateSpec"
   ]
  },
  {
   "cell_type": "code",
   "execution_count": null,
   "metadata": {},
   "outputs": [],
   "source": [
    "def compute_corr_coeff(currentSpec, templateSpec):\n",
    "    \"\"\" Computes correlation coefficient. \"\"\"\n",
    "\n",
    "    m = np.mean(currentSpec)\n",
    "    currentSpec = currentSpec - m\n",
    "    currentLen = np.sqrt(np.sum(currentSpec ** 2))\n",
    "    currentSpec = currentSpec / currentLen\n",
    "    \n",
    "    return np.mean(currentSpec.T@templateSpec)"
   ]
  },
  {
   "cell_type": "code",
   "execution_count": null,
   "metadata": {},
   "outputs": [],
   "source": [
    "def generate_gradient(templateSpec, n=256):\n",
    "    \"\"\" Generates the reward contour by simulating the song for each input combination\n",
    "        and storing the similarity metric w.r.t. the target song. \"\"\"\n",
    "    \n",
    "    global P_alpha, T_beta\n",
    "    \n",
    "    Spectrums = np.zeros((n, n, 129, 9)) # Hardcoded in a hurry\n",
    "#     Spectrums = np.load('Figures/spectrums_n'+str(n)+'.npy')\n",
    "    \n",
    "    Z = np.zeros((n,n))\n",
    "    for i in tqdm(np.arange(n)):\n",
    "        for j in np.arange(n):\n",
    "            P_alpha = i/n*0.2 #+ 0.0\n",
    "            T_beta = j/n*1. #+ 0.0\n",
    "            song = Syrinx(P_alpha, T_beta)\n",
    "            P_tr = Trachea(song)\n",
    "            (freqs, t, spectrum) = spectrogram(P_tr, fs=1/dt)\n",
    "            Spectrums[i, j] = spectrum\n",
    "#             spectrum = Spectrums[i, j]\n",
    "            Z[i, j] = compute_corr_coeff(spectrum, templateSpec)\n",
    "\n",
    "#     np.save('Figures/spectrums_n'+str(n), Spectrums)\n",
    "    return Z\n",
    "            \n",
    "    "
   ]
  },
  {
   "cell_type": "code",
   "execution_count": null,
   "metadata": {},
   "outputs": [],
   "source": [
    "# Assign target song\n",
    "\n",
    "P_alpha = 0.05\n",
    "T_beta = .3\n",
    "\n",
    "templateSpec = create_template(P_alpha, T_beta)"
   ]
  },
  {
   "cell_type": "code",
   "execution_count": null,
   "metadata": {},
   "outputs": [
    {
     "name": "stderr",
     "output_type": "stream",
     "text": [
      " 40%|████      | 4/10 [00:33<00:50,  8.37s/it]"
     ]
    }
   ],
   "source": [
    "# Generate reward contour based on similarity to assigned target song\n",
    "\n",
    "nZ = 10                          # Specify resolution of performance landscape\n",
    "Z = generate_gradient(templateSpec, nZ)\n",
    "# np.save('Contour/Z-T03_P005_n'+str(nZ), Z)"
   ]
  },
  {
   "cell_type": "code",
   "execution_count": null,
   "metadata": {},
   "outputs": [],
   "source": []
  },
  {
   "cell_type": "code",
   "execution_count": null,
   "metadata": {},
   "outputs": [],
   "source": [
    "## If the contour has been previously generated, uncomment this cell.\n",
    "Z = np.load('SyrinxOutput/rc4/Z-T03_P005_n10.npy')"
   ]
  },
  {
   "cell_type": "code",
   "execution_count": null,
   "metadata": {},
   "outputs": [],
   "source": [
    "# Normalise and plot contour\n",
    "\n",
    "Z = Z/np.max(Z)\n",
    "figure = plt.figure(figsize=(8,8))\n",
    "ax = plt.subplot(frameon=False)\n",
    "\n",
    "# im = ax.imshow(Z , vmin=0, vmax=Z.max(), cmap='Purples', extent=[0, 0.1, 0, 0.02], aspect='auto')\n",
    "im = ax.imshow(Z , vmin=0, vmax=Z.max(), cmap='Purples', extent=[0, 1, 0, 1], aspect='auto')\n",
    "ax.invert_yaxis() \n",
    "\n",
    "# Display colorbar\n",
    "divider = make_axes_locatable(ax)\n",
    "cax = divider.append_axes('right', size='5%', pad=0.5)\n",
    "cbar = figure.colorbar(im, cax=cax)\n",
    "cbar.set_label('Performance metric (R)', rotation=270, fontsize=20, labelpad=25)\n",
    "\n",
    "ax.spines['top'].set_visible(False)\n",
    "ax.spines['right'].set_visible(False)"
   ]
  },
  {
   "cell_type": "code",
   "execution_count": null,
   "metadata": {},
   "outputs": [],
   "source": [
    "# Different style for same plot as above\n",
    "\n",
    "figure = plt.figure()\n",
    "ax = plt.subplot(frameon=False)\n",
    "\n",
    "# Plot reward contour\n",
    "plot_gradient(ax, Z, figure)"
   ]
  },
  {
   "cell_type": "markdown",
   "metadata": {},
   "source": [
    "### This contour is interpolated by the dual pathway script to form a performance landscape of higher resolution."
   ]
  }
 ],
 "metadata": {
  "kernelspec": {
   "display_name": "Python 3",
   "language": "python",
   "name": "python3"
  },
  "language_info": {
   "codemirror_mode": {
    "name": "ipython",
    "version": 3
   },
   "file_extension": ".py",
   "mimetype": "text/x-python",
   "name": "python",
   "nbconvert_exporter": "python",
   "pygments_lexer": "ipython3",
   "version": "3.7.3"
  }
 },
 "nbformat": 4,
 "nbformat_minor": 2
}

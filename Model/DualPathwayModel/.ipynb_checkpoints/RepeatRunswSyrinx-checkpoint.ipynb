{
 "cells": [
  {
   "cell_type": "markdown",
   "metadata": {},
   "source": [
    "### Robustness check over Syrinx-based performance landscapes\n",
    "\n",
    "This script conducts multiple simulations, across RL noise levels, and generates summary statistics."
   ]
  },
  {
   "cell_type": "code",
   "execution_count": 1,
   "metadata": {},
   "outputs": [],
   "source": [
    "# Libraries\n",
    "\n",
    "import numpy as np\n",
    "import matplotlib.pyplot as plt                            \n",
    "from ipynb.fs.full.DualPathwayModel import Model as Model\n",
    "import os\n",
    "from matplotlib import patches\n",
    "from mpl_toolkits.axes_grid1 import make_axes_locatable"
   ]
  },
  {
   "cell_type": "code",
   "execution_count": null,
   "metadata": {},
   "outputs": [],
   "source": []
  },
  {
   "cell_type": "code",
   "execution_count": 2,
   "metadata": {},
   "outputs": [],
   "source": [
    "# Parameters\n",
    "\n",
    "perf_threshold = 0.6                   # Success threshold\n",
    "n_global_optima = 3                    # 1 for Gaussian-based landscapes and 3 for Syrinx-based landscapes\n",
    "\n",
    "nrpd = 100                             # No. of simulations per scenario\n",
    "n_repeat = nrpd + 1\n",
    "\n",
    "nd = 60                                # No. of days in simulation\n",
    "lr = 0.1                               # Learning rate of simulation\n",
    "ntpd = 1000                            # No. of trials per day of simulation\n",
    "\n",
    "noiseVal = [0.2, 0.3, 0.4, 0.5]        # RL noise levels to be tested\n",
    "\n",
    "Fig_path = 'ModelwSyrinx_' + str(nd) + 'd_0' + str(int(lr*100)) +'eta/'"
   ]
  },
  {
   "cell_type": "code",
   "execution_count": 3,
   "metadata": {},
   "outputs": [],
   "source": [
    "overall_rseed = 1000\n",
    "np.random.seed(overall_rseed)\n",
    "\n",
    "rseeds = np.random.randint(0, 1e9, size=n_repeat)\n",
    "\n",
    "# Stores performance metrics of each simulation\n",
    "Performance = {}\n",
    "Performance['rseeds'] = rseeds "
   ]
  },
  {
   "cell_type": "code",
   "execution_count": null,
   "metadata": {},
   "outputs": [],
   "source": [
    "\n"
   ]
  },
  {
   "cell_type": "markdown",
   "metadata": {},
   "source": [
    "Uncomment following cell to generate several simulations on the Syrinx based performance landscapes.\n",
    "\n",
    "Leave it commented if the simulations have already been run previously and the corresponding Performance.npy is available."
   ]
  },
  {
   "cell_type": "code",
   "execution_count": 4,
   "metadata": {
    "scrolled": false
   },
   "outputs": [],
   "source": [
    "# # Conducts batch simulations over all specified scenarios and saves corresponding performance metrics\n",
    "\n",
    "# for noiseLim in noiseVal:\n",
    "#     fig_path = Fig_path + 'Noise_0'+ str(int(noiseLim*100)) + '/'\n",
    "\n",
    "#     if not os.path.isdir(fig_path):\n",
    "#         os.makedirs(fig_path, exist_ok=False)\n",
    "#     else:\n",
    "#         print(fig_path + \" already exists.\")\n",
    "    \n",
    "#     Ravg = np.zeros(rseeds.size)\n",
    "#     Davg = np.zeros((rseeds.size, n_global_optima))    # Hard-coded no. of global optima\n",
    "#     Npeaks = np.zeros(rseeds.size)\n",
    "\n",
    "#     distractor = 10 #(run//nrpd + 1) * 10\n",
    "#     for run, rseed in enumerate(rseeds[:-1]):\n",
    "#         state_file = fig_path+ str(run) + '_' + str(rseed) + '_' + str(distractor) + '_object_variables.npy'\n",
    "#         if os.path.isfile(state_file):\n",
    "#             print(\"retrieving \", state_file)\n",
    "#             stored_state=(np.load(state_file)).item()\n",
    "#             Ravg[run], Davg[run], Npeaks[run] = stored_state['performance_metric']\n",
    "#         else:\n",
    "#             ModelObj = Model(rseed, run, distractor, noiseLim, fig_path, eta=lr, n_days=nd, ntrialspday=ntpd, simulation=True, contour_type='Syrinx')\n",
    "#             Ravg[run], Davg[run], Npeaks[run] = ModelObj.simulate()\n",
    "#             # ModelObj.plot_results()       # Uncomment if you wish to generate plots for individual simulations\n",
    "\n",
    "#     run = n_repeat-1\n",
    "#     rseeds[run] = 3456\n",
    "#     rseed = 3456\n",
    "#     state_file = fig_path+ str(run) + '_' + str(rseed) + '_' + str(distractor) + '_object_variables.npy'\n",
    "#     if os.path.isfile(state_file):\n",
    "#         stored_state=(np.load(state_file)).item()\n",
    "#         Ravg[run], Davg[run], Npeaks[run] = stored_state['performance_metric']\n",
    "#     else:\n",
    "#         ModelObj = Model(rseed, run, distractor, noiseLim, fig_path, eta=lr, n_days=nd, ntrialspday=ntpd, simulation=True, contour_type='Syrinx')\n",
    "#         Ravg[run], Davg[run], Npeaks[run] = ModelObj.simulate()\n",
    "            \n",
    "    \n",
    "\n",
    "#     Performance[noiseLim*100] = {}\n",
    "#     Performance[noiseLim*100]['RewardPerf'] = Ravg\n",
    "#     Performance[noiseLim*100]['DistancePerf'] = Davg\n",
    "#     Performance[noiseLim*100]['Npeaks'] = Npeaks\n",
    "\n",
    "# np.save(Fig_path + 'Performance', Performance)"
   ]
  },
  {
   "cell_type": "code",
   "execution_count": null,
   "metadata": {},
   "outputs": [],
   "source": []
  },
  {
   "cell_type": "code",
   "execution_count": null,
   "metadata": {},
   "outputs": [],
   "source": []
  },
  {
   "cell_type": "code",
   "execution_count": 5,
   "metadata": {},
   "outputs": [],
   "source": [
    "# Loads performance metrics of previously generated simulations\n",
    "# From here on, the script requires a file ModelwSyrinx_60d_010eta/Performance.npy generated by the previous cell.\n",
    "\n",
    "Performance = np.load(Fig_path + 'Performance.npy').item()"
   ]
  },
  {
   "cell_type": "code",
   "execution_count": null,
   "metadata": {},
   "outputs": [],
   "source": []
  },
  {
   "cell_type": "code",
   "execution_count": 6,
   "metadata": {},
   "outputs": [
    {
     "data": {
      "text/plain": [
       "Text(0.5, 0.98, 'Syrinx contour')"
      ]
     },
     "execution_count": 6,
     "metadata": {},
     "output_type": "execute_result"
    },
    {
     "data": {
      "image/png": "[encoded data removed]",
      "text/plain": [
       "<Figure size 640x480 with 1 Axes>"
      ]
     },
     "metadata": {},
     "output_type": "display_data"
    }
   ],
   "source": [
    "# Plots summary figure of performance metrics across noise levels.\n",
    "\n",
    "figure, ax = plt.subplots(1, 1)\n",
    "# if n_distractors == 1: ax = [ax]\n",
    "\n",
    "for k, noiseLim in enumerate(noiseVal):\n",
    "    PerfMetric = Performance[noiseLim*100]['RewardPerf']\n",
    "    Perf_x = np.ones(nrpd)*(k+1)*10 + np.random.uniform(-1,1,nrpd)\n",
    "    ax.plot(Perf_x, PerfMetric[:nrpd]*100, lw=0, marker='.', color='purple', alpha=0.4)\n",
    "    p = np.sum(PerfMetric[:nrpd]>perf_threshold) * 100 / nrpd\n",
    "    ax.bar((k+1)*10, p, width=4, color='grey', alpha=0.2)\n",
    "    ax.text((k+1)*10, 101, str(int(noiseLim*100))+\"% noise\", color='black', ha='center')\n",
    "    ax.text((k+1)*10, 5, str(int(p)) + '%', color='black', ha='center')\n",
    "\n",
    "    ax.axhline(y=perf_threshold*100, color='grey', linestyle='--')\n",
    "\n",
    "    ax.set_ylim(0,100)\n",
    "\n",
    "ax.spines['top'].set_visible(False)\n",
    "ax.spines['right'].set_visible(False)\n",
    "ax.spines['bottom'].set_visible(False)\n",
    "\n",
    "ax.set_ylabel('Performance metric / success rate')\n",
    "ax.get_yaxis().set_ticks([0, 25, 50, 75, 100])\n",
    "ax.get_xaxis().set_ticks([])\n",
    "\n",
    "figure.suptitle('Syrinx contour')\n",
    "\n",
    "# plt.savefig(Fig_path + 'Overall_syrinx_vs_noise.png')"
   ]
  }
 ],
 "metadata": {
  "kernelspec": {
   "display_name": "Python 3",
   "language": "python",
   "name": "python3"
  },
  "language_info": {
   "codemirror_mode": {
    "name": "ipython",
    "version": 3
   },
   "file_extension": ".py",
   "mimetype": "text/x-python",
   "name": "python",
   "nbconvert_exporter": "python",
   "pygments_lexer": "ipython3",
   "version": "3.7.3"
  }
 },
 "nbformat": 4,
 "nbformat_minor": 2
}
